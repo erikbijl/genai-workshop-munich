{
 "cells": [
  {
   "cell_type": "code",
   "execution_count": 1,
   "id": "643367b5-0019-425f-b367-5d610e5214c4",
   "metadata": {},
   "outputs": [],
   "source": [
    "import os\n",
    "import pandas as pd\n",
    "from dotenv import load_dotenv\n",
    "from langchain_openai import OpenAIEmbeddings, ChatOpenAI\n",
    "from langchain.schema import SystemMessage, HumanMessage"
   ]
  },
  {
   "cell_type": "code",
   "execution_count": 2,
   "id": "772415da-5546-4895-9b21-aa4f9284ede9",
   "metadata": {},
   "outputs": [],
   "source": [
    "env_file = '../ws.env'"
   ]
  },
  {
   "cell_type": "code",
   "execution_count": 3,
   "id": "6214dee4-f0e5-4fca-a575-b4fd9725d8a9",
   "metadata": {},
   "outputs": [],
   "source": [
    "if os.path.exists(env_file):\n",
    "    load_dotenv(env_file, override=True)\n",
    "\n",
    "    OPENAI_API_KEY = os.getenv('OPENAI_API_KEY')\n",
    "    os.environ['OPENAI_API_KEY']=OPENAI_API_KEY\n",
    "    LLM = os.getenv('LLM')\n",
    "else:\n",
    "    print(f\"File {env_file} not found.\")"
   ]
  },
  {
   "cell_type": "code",
   "execution_count": 4,
   "id": "2974d149-3797-44a8-b834-a5947cb7b768",
   "metadata": {},
   "outputs": [],
   "source": [
    "df = pd.read_csv('expanded_skills.csv')"
   ]
  },
  {
   "cell_type": "code",
   "execution_count": 5,
   "id": "0d28d2be-4320-4b5d-b2c6-0174f82d2c38",
   "metadata": {},
   "outputs": [
    {
     "data": {
      "text/html": [
       "<div>\n",
       "<style scoped>\n",
       "    .dataframe tbody tr th:only-of-type {\n",
       "        vertical-align: middle;\n",
       "    }\n",
       "\n",
       "    .dataframe tbody tr th {\n",
       "        vertical-align: top;\n",
       "    }\n",
       "\n",
       "    .dataframe thead th {\n",
       "        text-align: right;\n",
       "    }\n",
       "</style>\n",
       "<table border=\"1\" class=\"dataframe\">\n",
       "  <thead>\n",
       "    <tr style=\"text-align: right;\">\n",
       "      <th></th>\n",
       "      <th>email</th>\n",
       "      <th>name</th>\n",
       "      <th>skills</th>\n",
       "    </tr>\n",
       "  </thead>\n",
       "  <tbody>\n",
       "    <tr>\n",
       "      <th>0</th>\n",
       "      <td>thomas.nelson@test.org</td>\n",
       "      <td>Thomas Nelson</td>\n",
       "      <td>Security, Pandas, Go</td>\n",
       "    </tr>\n",
       "    <tr>\n",
       "      <th>1</th>\n",
       "      <td>lucy.clark@test.org</td>\n",
       "      <td>Lucy Clark</td>\n",
       "      <td>WordPress, Scrum, Go, SQL, Linux</td>\n",
       "    </tr>\n",
       "    <tr>\n",
       "      <th>2</th>\n",
       "      <td>richard.jackson@test.org</td>\n",
       "      <td>Richard Jackson</td>\n",
       "      <td>System Design, PyTorch, Express.js, DevOps</td>\n",
       "    </tr>\n",
       "    <tr>\n",
       "      <th>3</th>\n",
       "      <td>amelia.hall@test.org</td>\n",
       "      <td>Amelia Hall</td>\n",
       "      <td>Agile, CSS3, R, Azure</td>\n",
       "    </tr>\n",
       "    <tr>\n",
       "      <th>4</th>\n",
       "      <td>david.hill@test.org</td>\n",
       "      <td>David Hill</td>\n",
       "      <td>Java, Scrum, Angular</td>\n",
       "    </tr>\n",
       "  </tbody>\n",
       "</table>\n",
       "</div>"
      ],
      "text/plain": [
       "                      email             name  \\\n",
       "0    thomas.nelson@test.org    Thomas Nelson   \n",
       "1       lucy.clark@test.org       Lucy Clark   \n",
       "2  richard.jackson@test.org  Richard Jackson   \n",
       "3      amelia.hall@test.org      Amelia Hall   \n",
       "4       david.hill@test.org       David Hill   \n",
       "\n",
       "                                       skills  \n",
       "0                        Security, Pandas, Go  \n",
       "1            WordPress, Scrum, Go, SQL, Linux  \n",
       "2  System Design, PyTorch, Express.js, DevOps  \n",
       "3                       Agile, CSS3, R, Azure  \n",
       "4                        Java, Scrum, Angular  "
      ]
     },
     "execution_count": 5,
     "metadata": {},
     "output_type": "execute_result"
    }
   ],
   "source": [
    "df.head()"
   ]
  },
  {
   "cell_type": "code",
   "execution_count": 6,
   "id": "ae3b539f-7a06-4db5-8fb3-653693e1ee81",
   "metadata": {},
   "outputs": [],
   "source": [
    "df = df[['skills']]"
   ]
  },
  {
   "cell_type": "code",
   "execution_count": 7,
   "id": "413a3fa9-8934-47f7-b7c0-40504aa25cbb",
   "metadata": {},
   "outputs": [],
   "source": [
    "df['Skill'] = df['skills'].str.split(', ')\n",
    "\n",
    "df = df[['Skill']].explode('Skill')\n",
    "df = df.drop_duplicates().sort_values(by='Skill').reset_index(drop=True)"
   ]
  },
  {
   "cell_type": "code",
   "execution_count": 8,
   "id": "11d0e11a-4d16-452e-8859-c08e8ff74343",
   "metadata": {},
   "outputs": [
    {
     "data": {
      "text/plain": [
       "(54, 1)"
      ]
     },
     "execution_count": 8,
     "metadata": {},
     "output_type": "execute_result"
    }
   ],
   "source": [
    "df.shape"
   ]
  },
  {
   "cell_type": "code",
   "execution_count": 9,
   "id": "dfd7baf3-e259-4d2e-8fbc-5bd01868b6dc",
   "metadata": {},
   "outputs": [
    {
     "data": {
      "text/html": [
       "<div>\n",
       "<style scoped>\n",
       "    .dataframe tbody tr th:only-of-type {\n",
       "        vertical-align: middle;\n",
       "    }\n",
       "\n",
       "    .dataframe tbody tr th {\n",
       "        vertical-align: top;\n",
       "    }\n",
       "\n",
       "    .dataframe thead th {\n",
       "        text-align: right;\n",
       "    }\n",
       "</style>\n",
       "<table border=\"1\" class=\"dataframe\">\n",
       "  <thead>\n",
       "    <tr style=\"text-align: right;\">\n",
       "      <th></th>\n",
       "      <th>Skill</th>\n",
       "    </tr>\n",
       "  </thead>\n",
       "  <tbody>\n",
       "    <tr>\n",
       "      <th>0</th>\n",
       "      <td>API Design</td>\n",
       "    </tr>\n",
       "    <tr>\n",
       "      <th>1</th>\n",
       "      <td>AWS</td>\n",
       "    </tr>\n",
       "    <tr>\n",
       "      <th>2</th>\n",
       "      <td>Agile</td>\n",
       "    </tr>\n",
       "    <tr>\n",
       "      <th>3</th>\n",
       "      <td>Angular</td>\n",
       "    </tr>\n",
       "    <tr>\n",
       "      <th>4</th>\n",
       "      <td>Azure</td>\n",
       "    </tr>\n",
       "  </tbody>\n",
       "</table>\n",
       "</div>"
      ],
      "text/plain": [
       "        Skill\n",
       "0  API Design\n",
       "1         AWS\n",
       "2       Agile\n",
       "3     Angular\n",
       "4       Azure"
      ]
     },
     "execution_count": 9,
     "metadata": {},
     "output_type": "execute_result"
    }
   ],
   "source": [
    "df.head()"
   ]
  },
  {
   "cell_type": "code",
   "execution_count": 10,
   "id": "2025d62a-23b8-4874-88a3-e391fd8906a6",
   "metadata": {},
   "outputs": [],
   "source": [
    "llm = ChatOpenAI(model=LLM, temperature=0)"
   ]
  },
  {
   "cell_type": "code",
   "execution_count": 11,
   "id": "66b3fff8-d16d-46cd-9203-e03edc737600",
   "metadata": {},
   "outputs": [],
   "source": [
    "system_prompt = \"You are a helpful assistant that provides more information on IT skills. You will get a skill coming from a CV. Your goal is to provide a short description based on this skill. What does it entail, where are these skills used for etc.\" "
   ]
  },
  {
   "cell_type": "code",
   "execution_count": 12,
   "id": "d67cd069-6aa9-4b42-a9cf-45ab8f757b73",
   "metadata": {},
   "outputs": [],
   "source": [
    "generated_texts = []\n",
    "for skill in df['Skill']:\n",
    "    messages = [\n",
    "        SystemMessage(content=system_prompt),\n",
    "        HumanMessage(content=f\"Write a brief and engaging description of the IT skill: {skill}.\")\n",
    "    ]\n",
    "    \n",
    "    response = llm.invoke(messages)\n",
    "    generated_texts.append(response.content)"
   ]
  },
  {
   "cell_type": "code",
   "execution_count": 13,
   "id": "3e61c682-532d-47d9-988d-788d619285ee",
   "metadata": {},
   "outputs": [],
   "source": [
    "df['Description'] = generated_texts"
   ]
  },
  {
   "cell_type": "code",
   "execution_count": 14,
   "id": "b2c6af9d-054b-410b-a285-feb2d90200d6",
   "metadata": {},
   "outputs": [],
   "source": [
    "embeddings = OpenAIEmbeddings(model='text-embedding-ada-002')"
   ]
  },
  {
   "cell_type": "code",
   "execution_count": 15,
   "id": "decbab69-b9a3-4e6d-9c62-5dc09ec1cb94",
   "metadata": {},
   "outputs": [],
   "source": [
    "df['Embedding'] = df['Description'].apply( lambda skill: embeddings.embed_documents([skill])[0])"
   ]
  },
  {
   "cell_type": "code",
   "execution_count": 16,
   "id": "6e37f660-4ef7-40f3-ac78-73608c286874",
   "metadata": {},
   "outputs": [
    {
     "data": {
      "text/html": [
       "<div>\n",
       "<style scoped>\n",
       "    .dataframe tbody tr th:only-of-type {\n",
       "        vertical-align: middle;\n",
       "    }\n",
       "\n",
       "    .dataframe tbody tr th {\n",
       "        vertical-align: top;\n",
       "    }\n",
       "\n",
       "    .dataframe thead th {\n",
       "        text-align: right;\n",
       "    }\n",
       "</style>\n",
       "<table border=\"1\" class=\"dataframe\">\n",
       "  <thead>\n",
       "    <tr style=\"text-align: right;\">\n",
       "      <th></th>\n",
       "      <th>Skill</th>\n",
       "      <th>Description</th>\n",
       "      <th>Embedding</th>\n",
       "    </tr>\n",
       "  </thead>\n",
       "  <tbody>\n",
       "    <tr>\n",
       "      <th>0</th>\n",
       "      <td>API Design</td>\n",
       "      <td>API Design is the process of creating applicat...</td>\n",
       "      <td>[0.007902550511062145, -0.006266295909881592, ...</td>\n",
       "    </tr>\n",
       "    <tr>\n",
       "      <th>1</th>\n",
       "      <td>AWS</td>\n",
       "      <td>Amazon Web Services (AWS) is a comprehensive a...</td>\n",
       "      <td>[-0.0029347320087254047, -0.015877487137913704...</td>\n",
       "    </tr>\n",
       "    <tr>\n",
       "      <th>2</th>\n",
       "      <td>Agile</td>\n",
       "      <td>Agile is a dynamic and flexible project manage...</td>\n",
       "      <td>[-0.023693757131695747, -0.012672649696469307,...</td>\n",
       "    </tr>\n",
       "    <tr>\n",
       "      <th>3</th>\n",
       "      <td>Angular</td>\n",
       "      <td>Angular is a powerful, open-source web applica...</td>\n",
       "      <td>[0.013188531622290611, 0.029791485518217087, -...</td>\n",
       "    </tr>\n",
       "    <tr>\n",
       "      <th>4</th>\n",
       "      <td>Azure</td>\n",
       "      <td>Azure is Microsoft's cloud computing platform ...</td>\n",
       "      <td>[-0.004470727406442165, -0.024176467210054398,...</td>\n",
       "    </tr>\n",
       "  </tbody>\n",
       "</table>\n",
       "</div>"
      ],
      "text/plain": [
       "        Skill                                        Description  \\\n",
       "0  API Design  API Design is the process of creating applicat...   \n",
       "1         AWS  Amazon Web Services (AWS) is a comprehensive a...   \n",
       "2       Agile  Agile is a dynamic and flexible project manage...   \n",
       "3     Angular  Angular is a powerful, open-source web applica...   \n",
       "4       Azure  Azure is Microsoft's cloud computing platform ...   \n",
       "\n",
       "                                           Embedding  \n",
       "0  [0.007902550511062145, -0.006266295909881592, ...  \n",
       "1  [-0.0029347320087254047, -0.015877487137913704...  \n",
       "2  [-0.023693757131695747, -0.012672649696469307,...  \n",
       "3  [0.013188531622290611, 0.029791485518217087, -...  \n",
       "4  [-0.004470727406442165, -0.024176467210054398,...  "
      ]
     },
     "execution_count": 16,
     "metadata": {},
     "output_type": "execute_result"
    }
   ],
   "source": [
    "df.head()"
   ]
  },
  {
   "cell_type": "code",
   "execution_count": 18,
   "id": "a02c1560-cdc5-4cad-ab29-8dd9a7ee4ae2",
   "metadata": {},
   "outputs": [],
   "source": [
    "df.to_csv('skills_embeddings.csv', index=False)"
   ]
  }
 ],
 "metadata": {
  "kernelspec": {
   "display_name": "Python 3 (ipykernel)",
   "language": "python",
   "name": "python3"
  },
  "language_info": {
   "codemirror_mode": {
    "name": "ipython",
    "version": 3
   },
   "file_extension": ".py",
   "mimetype": "text/x-python",
   "name": "python",
   "nbconvert_exporter": "python",
   "pygments_lexer": "ipython3",
   "version": "3.11.5"
  }
 },
 "nbformat": 4,
 "nbformat_minor": 5
}
