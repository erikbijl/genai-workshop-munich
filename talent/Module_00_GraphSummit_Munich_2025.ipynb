{
 "cells": [
  {
   "cell_type": "markdown",
   "metadata": {},
   "source": [
    "# Module objectives\n",
    "- Navigation and instructions\n"
   ]
  },
  {
   "cell_type": "markdown",
   "metadata": {},
   "source": [
    "## How to open module on the Jupyter Server\n",
    "Select File -> Open from URL ... \n",
    "\n",
    "Module 1: \n",
    "https://raw.githubusercontent.com/erikbijl/genai-workshop-munich/refs/heads/main/talent/Module_01_GraphSummit_Munich_2025.ipynb\n",
    "\n",
    "Module 2: \n",
    "https://raw.githubusercontent.com/erikbijl/genai-workshop-munich/refs/heads/main/talent/Module_02_GraphSummit_Munich_2025.ipynb\n",
    "\n",
    "Module 3: \n",
    "https://raw.githubusercontent.com/erikbijl/genai-workshop-munich/refs/heads/main/talent/Module_03_GraphSummit_Munich_2025.ipynb\n"
   ]
  },
  {
   "cell_type": "markdown",
   "metadata": {},
   "source": [
    "## Neo4j Browser\n",
    "https://browser.neo4j.io/preview/"
   ]
  }
 ],
 "metadata": {
  "colab": {
   "provenance": []
  },
  "kernelspec": {
   "display_name": "Python 3 (ipykernel)",
   "language": "python",
   "name": "python3"
  },
  "language_info": {
   "codemirror_mode": {
    "name": "ipython",
    "version": 3
   },
   "file_extension": ".py",
   "mimetype": "text/x-python",
   "name": "python",
   "nbconvert_exporter": "python",
   "pygments_lexer": "ipython3",
   "version": "3.11.5"
  }
 },
 "nbformat": 4,
 "nbformat_minor": 4
}
