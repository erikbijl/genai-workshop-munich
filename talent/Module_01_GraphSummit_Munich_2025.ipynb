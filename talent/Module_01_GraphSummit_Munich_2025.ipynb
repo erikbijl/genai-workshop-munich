{
 "cells": [
  {
   "cell_type": "markdown",
   "metadata": {},
   "source": [
    "# Module 1 - Graph basics: Queries, Algorithms & Vectors  \n",
    "\n",
    "This module has the following objectives:\n",
    "- Creating a Graph from Structured Data\n",
    "- Basic Cypher Queries and Pattern Matching\n",
    "- Graph Algorithms\n",
    "- Text Embeddings for Semantic Analysis\n",
    "- Vector Search"
   ]
  },
  {
   "cell_type": "code",
   "execution_count": null,
   "metadata": {
    "id": "FHKg4DVZiQ98"
   },
   "outputs": [],
   "source": [
    "# !pip install graphdatascience neo4j dotenv langchain langchain_openai, matplotlib, seaborn"
   ]
  },
  {
   "cell_type": "markdown",
   "metadata": {},
   "source": [
    "Import our usual suspects (and some more...)"
   ]
  },
  {
   "cell_type": "code",
   "execution_count": null,
   "metadata": {},
   "outputs": [],
   "source": [
    "import os\n",
    "import pandas as pd\n",
    "from dotenv import load_dotenv\n",
    "from graphdatascience import GraphDataScience\n",
    "from neo4j import Query, GraphDatabase, RoutingControl, Result\n",
    "from langchain_openai import OpenAIEmbeddings, ChatOpenAI\n",
    "from langchain_core.prompts import ChatPromptTemplate\n",
    "from langchain_core.output_parsers import StrOutputParser\n",
    "import matplotlib.pyplot as plt\n",
    "import seaborn as sns"
   ]
  },
  {
   "cell_type": "markdown",
   "metadata": {
    "id": "ynPe6RLRWSKd"
   },
   "source": [
    "## Setup"
   ]
  },
  {
   "cell_type": "markdown",
   "metadata": {
    "id": "pa61u1jfyk3t"
   },
   "source": [
    "Load env variables"
   ]
  },
  {
   "cell_type": "code",
   "execution_count": null,
   "metadata": {},
   "outputs": [],
   "source": [
    "env_file = 'ws.env'"
   ]
  },
  {
   "cell_type": "code",
   "execution_count": null,
   "metadata": {},
   "outputs": [],
   "source": [
    "if os.path.exists(env_file):\n",
    "    load_dotenv(env_file, override=True)\n",
    "\n",
    "    # Neo4j\n",
    "    HOST = os.getenv('NEO4J_URI')\n",
    "    USERNAME = os.getenv('NEO4J_USERNAME')\n",
    "    PASSWORD = os.getenv('NEO4J_PASSWORD')\n",
    "    DATABASE = os.getenv('NEO4J_DATABASE')\n",
    "\n",
    "    # AI\n",
    "    OPENAI_API_KEY = os.getenv('OPENAI_API_KEY')\n",
    "    os.environ['OPENAI_API_KEY']=OPENAI_API_KEY\n",
    "    LLM = os.getenv('LLM')\n",
    "    EMBEDDINGS_MODEL = os.getenv('EMBEDDINGS_MODEL')\n",
    "else:\n",
    "    print(f\"File {env_file} not found.\")"
   ]
  },
  {
   "cell_type": "markdown",
   "metadata": {
    "id": "0OMlYdxHWZLx"
   },
   "source": [
    "## Read Data"
   ]
  },
  {
   "cell_type": "markdown",
   "metadata": {
    "id": "HWJbMUtJeOcv"
   },
   "source": [
    "Load synthetic Skills dataset"
   ]
  },
  {
   "cell_type": "code",
   "execution_count": null,
   "metadata": {},
   "outputs": [],
   "source": [
    "url = \"https://github.com/erikbijl/genai-workshop-amsterdam/raw/refs/heads/main/talent/data/expanded_skills.csv\""
   ]
  },
  {
   "cell_type": "code",
   "execution_count": null,
   "metadata": {
    "id": "HWJbMUtJeOcv"
   },
   "outputs": [],
   "source": [
    "skills_df = pd.read_csv(url)"
   ]
  },
  {
   "cell_type": "markdown",
   "metadata": {},
   "source": [
    "Describe the dataset"
   ]
  },
  {
   "cell_type": "code",
   "execution_count": null,
   "metadata": {},
   "outputs": [],
   "source": [
    "skills_df.describe()"
   ]
  },
  {
   "cell_type": "markdown",
   "metadata": {
    "id": "HWJbMUtJeOcv"
   },
   "source": [
    "Display the first few rows of the DataFrame"
   ]
  },
  {
   "cell_type": "code",
   "execution_count": null,
   "metadata": {
    "id": "HWJbMUtJeOcv"
   },
   "outputs": [],
   "source": [
    "skills_df.head(10)"
   ]
  },
  {
   "cell_type": "markdown",
   "metadata": {
    "id": "7tdxbTD_ZZ-T"
   },
   "source": [
    "Convert skills column from comma separated string to List"
   ]
  },
  {
   "cell_type": "code",
   "execution_count": null,
   "metadata": {
    "id": "7tdxbTD_ZZ-T"
   },
   "outputs": [],
   "source": [
    "skills_df['skills'] = skills_df['skills'].str.split(', ')\n",
    "skills_df.head()"
   ]
  },
  {
   "cell_type": "markdown",
   "metadata": {
    "id": "k5QJiOUfZZ-T"
   },
   "source": [
    "## Create the Graph"
   ]
  },
  {
   "cell_type": "markdown",
   "metadata": {},
   "source": [
    "### Connect to the Database"
   ]
  },
  {
   "cell_type": "markdown",
   "metadata": {},
   "source": [
    "To connect to the database we use the [Neo4j Python Driver](https://neo4j.com/docs/python-manual/5/). The credentials are stored in our environment so can be specified to the driver."
   ]
  },
  {
   "cell_type": "code",
   "execution_count": null,
   "metadata": {},
   "outputs": [],
   "source": [
    "driver = GraphDatabase.driver(\n",
    "    HOST,\n",
    "    auth=(USERNAME, PASSWORD)\n",
    ")"
   ]
  },
  {
   "cell_type": "markdown",
   "metadata": {},
   "source": [
    "In case we want to split large files. "
   ]
  },
  {
   "cell_type": "code",
   "execution_count": null,
   "metadata": {},
   "outputs": [],
   "source": [
    "def split_dataframe(df, chunk_size = 50_000):\n",
    "    chunks = list()\n",
    "    num_chunks = len(df) // chunk_size + 1\n",
    "    for i in range(num_chunks):\n",
    "        chunks.append(df[i*chunk_size:(i+1)*chunk_size])\n",
    "    return chunks"
   ]
  },
  {
   "cell_type": "markdown",
   "metadata": {},
   "source": [
    "Test the connection"
   ]
  },
  {
   "cell_type": "code",
   "execution_count": null,
   "metadata": {},
   "outputs": [],
   "source": [
    "driver.execute_query(\n",
    "    \"\"\"\n",
    "    MATCH (n) RETURN COUNT(n) as Count\n",
    "    \"\"\",\n",
    "    database_=DATABASE,\n",
    "    routing_=RoutingControl.READ,\n",
    "    result_transformer_= lambda r: r.to_df()\n",
    ")"
   ]
  },
  {
   "cell_type": "markdown",
   "metadata": {},
   "source": [
    "### Set constraints"
   ]
  },
  {
   "cell_type": "markdown",
   "metadata": {},
   "source": [
    "We know what we will be loading. Set some constrainst first. Documentation: [Constraints](https://neo4j.com/docs/cypher-manual/current/constraints/managing-constraints/)"
   ]
  },
  {
   "cell_type": "markdown",
   "metadata": {},
   "source": [
    "Set the constraint on Person Nodes"
   ]
  },
  {
   "cell_type": "code",
   "execution_count": null,
   "metadata": {},
   "outputs": [],
   "source": [
    "driver.execute_query(\n",
    "    'CREATE CONSTRAINT IF NOT EXISTS FOR (n:Person) REQUIRE (n.email) IS NODE KEY',\n",
    "    database_=DATABASE,\n",
    "    routing_=RoutingControl.WRITE\n",
    ")"
   ]
  },
  {
   "cell_type": "markdown",
   "metadata": {},
   "source": [
    "Set the constraint on Skill Nodes"
   ]
  },
  {
   "cell_type": "code",
   "execution_count": null,
   "metadata": {},
   "outputs": [],
   "source": [
    "driver.execute_query(\n",
    "    'CREATE CONSTRAINT IF NOT EXISTS FOR (n:Skill) REQUIRE (n.name) IS NODE KEY',\n",
    "    database_=DATABASE,\n",
    "    routing_=RoutingControl.WRITE\n",
    ")"
   ]
  },
  {
   "cell_type": "markdown",
   "metadata": {
    "id": "cdTfdAyV2ZaR"
   },
   "source": [
    "Fetch all constraints"
   ]
  },
  {
   "cell_type": "code",
   "execution_count": null,
   "metadata": {
    "id": "cdTfdAyV2ZaR"
   },
   "outputs": [],
   "source": [
    "schema_result_df  = driver.execute_query(\n",
    "    'SHOW CONSTRAINTS',\n",
    "    database_=DATABASE,\n",
    "    routing_=RoutingControl.READ,\n",
    "    result_transformer_= lambda r: r.to_df()\n",
    ")\n",
    "schema_result_df.head()"
   ]
  },
  {
   "cell_type": "markdown",
   "metadata": {},
   "source": [
    "### Load (:Person)-[:KNOWS]->(:Skill)"
   ]
  },
  {
   "cell_type": "markdown",
   "metadata": {
    "id": "uduojIopm0qV"
   },
   "source": [
    "Create a Person and Skills nodes and create a relationship in between. Documentation: [MERGE](https://neo4j.com/docs/cypher-manual/current/clauses/merge/?utm_source=GSearch&utm_medium=PaidSearch&utm_campaign=Evergreen&utm_content=EMEA-Search-SEMCE-DSA-None-SEM-SEM-NonABM&utm_term=&utm_adgroup=DSA&gad_source=1&gclid=Cj0KCQjwm7q-BhDRARIsACD6-fXns_MSgSZ3_jQdYreKu3iOBQQU6bwddlNa4wD12oLr3rxKUlF4MMMaAnj1EALw_wcB)"
   ]
  },
  {
   "cell_type": "code",
   "execution_count": null,
   "metadata": {
    "id": "uduojIopm0qV"
   },
   "outputs": [],
   "source": [
    "for chunk in split_dataframe(skills_df):\n",
    "    records, summary, keys = driver.execute_query(\n",
    "        \"\"\"\n",
    "        UNWIND $rows AS row\n",
    "        MERGE (p:Person{email:row.email})\n",
    "        SET p.name = row.name\n",
    "        WITH p, row\n",
    "        FOREACH(skill IN row.skills | MERGE (s:Skill{name:skill}) MERGE (p)-[:KNOWS]->(s) )\n",
    "        RETURN COUNT(*) AS rows_processed\n",
    "        \"\"\",\n",
    "        database_=DATABASE,\n",
    "        routing_=RoutingControl.WRITE,\n",
    "        rows = chunk.to_dict('records')\n",
    "    )"
   ]
  },
  {
   "cell_type": "markdown",
   "metadata": {
    "id": "rZo7Gln2jJcF"
   },
   "source": [
    "## Explore the Graph"
   ]
  },
  {
   "cell_type": "markdown",
   "metadata": {},
   "source": [
    "Now to the database and observe what is there. \n",
    "Example queries: \n",
    "- MATCH (n:Person) RETURN n LIMIT 25;\n",
    "- MATCH (n:Skill) RETURN n LIMIT 25;\n",
    "- MATCH p=()-[:KNOWS]->() RETURN p LIMIT 25;"
   ]
  },
  {
   "cell_type": "markdown",
   "metadata": {},
   "source": [
    "We can also run this via the [Neo4j Python Driver](https://neo4j.com/docs/python-manual/5/). Let's do so below"
   ]
  },
  {
   "cell_type": "markdown",
   "metadata": {},
   "source": [
    "#### What persons are in the database?"
   ]
  },
  {
   "cell_type": "code",
   "execution_count": null,
   "metadata": {
    "id": "70-xbOfgjQsY"
   },
   "outputs": [],
   "source": [
    "persons_df = driver.execute_query(\n",
    "    \"\"\"\n",
    "    MATCH (p:Person)\n",
    "    RETURN p.name AS person_name\n",
    "    \"\"\",\n",
    "    database_=DATABASE,\n",
    "    routing_=RoutingControl.READ,\n",
    "    result_transformer_= lambda r: r.to_df()\n",
    ")"
   ]
  },
  {
   "cell_type": "code",
   "execution_count": null,
   "metadata": {},
   "outputs": [],
   "source": [
    "persons_df"
   ]
  },
  {
   "cell_type": "markdown",
   "metadata": {
    "id": "volCOjn_jjm3"
   },
   "source": [
    "#### What skills does each person know?"
   ]
  },
  {
   "cell_type": "code",
   "execution_count": null,
   "metadata": {
    "id": "volCOjn_jjm3"
   },
   "outputs": [],
   "source": [
    "person_skills_df = driver.execute_query(\n",
    "    \"\"\"\n",
    "    MATCH (p:Person)-[:KNOWS]->(s:Skill)\n",
    "    RETURN p.email AS email, p.name AS person_name, collect(s.name) AS skills\n",
    "    \"\"\",\n",
    "    database_=DATABASE,\n",
    "    routing_=RoutingControl.READ,\n",
    "    result_transformer_= lambda r: r.to_df()\n",
    ")"
   ]
  },
  {
   "cell_type": "code",
   "execution_count": null,
   "metadata": {},
   "outputs": [],
   "source": [
    "person_skills_df"
   ]
  },
  {
   "cell_type": "markdown",
   "metadata": {
    "id": "2yddechtj2MB"
   },
   "source": [
    "#### What are the most frequent skills?"
   ]
  },
  {
   "cell_type": "code",
   "execution_count": null,
   "metadata": {
    "id": "2yddechtj2MB"
   },
   "outputs": [],
   "source": [
    "skill_count_df = driver.execute_query(\n",
    "    \"\"\"\n",
    "    MATCH (p:Person)-[:KNOWS]->(s:Skill)\n",
    "    RETURN s.name, COUNT(DISTINCT p) AS knownByCount ORDER BY knownByCount DESC LIMIT 10\n",
    "    \"\"\",\n",
    "    database_=DATABASE,\n",
    "    routing_=RoutingControl.READ,\n",
    "    result_transformer_= lambda r: r.to_df()\n",
    ")"
   ]
  },
  {
   "cell_type": "code",
   "execution_count": null,
   "metadata": {},
   "outputs": [],
   "source": [
    "skill_count_df"
   ]
  },
  {
   "cell_type": "markdown",
   "metadata": {},
   "source": [
    "#### Multihop question"
   ]
  },
  {
   "cell_type": "markdown",
   "metadata": {},
   "source": [
    "Run the following query in the database: \n",
    "- ```MATCH p=(p1:Person {name: \"Lucy Clark\"})-[:KNOWS]->(s1:Skill)<-[:KNOWS]-(p2:Person) RETURN DISTINCT p;```\n",
    "- ```MATCH p=(p1:Person {name: \"Lucy Clark\"})-[:KNOWS]->(s1:Skill)<-[:KNOWS]-(p2:Person)-[:KNOWS]-(s2:Skill) RETURN DISTINCT p;```"
   ]
  },
  {
   "cell_type": "code",
   "execution_count": null,
   "metadata": {},
   "outputs": [],
   "source": [
    "person_name_1 = \"Lucy Clark\"\n",
    "\n",
    "persons_with_shared_skills_df = driver.execute_query(\n",
    "    \"\"\"\n",
    "    MATCH p=(p1:Person {name: $person_name_1})-[:KNOWS]->(s1:Skill)<-[:KNOWS]-(p2:Person)\n",
    "    RETURN DISTINCT p2.name as person;\n",
    "    \"\"\",\n",
    "    database_=DATABASE,\n",
    "    routing_=RoutingControl.READ,\n",
    "    result_transformer_= lambda r: r.to_df(),\n",
    "    person_name_1 = person_name_1\n",
    ")"
   ]
  },
  {
   "cell_type": "code",
   "execution_count": null,
   "metadata": {},
   "outputs": [],
   "source": [
    "persons_with_shared_skills_df"
   ]
  },
  {
   "cell_type": "code",
   "execution_count": null,
   "metadata": {},
   "outputs": [],
   "source": [
    "person_name_1 = \"Lucy Clark\"\n",
    "\n",
    "skills_two_steps_df = driver.execute_query(\n",
    "    \"\"\"\n",
    "    MATCH p=(p1:Person {name: $person_name_1})-[:KNOWS]->(s1:Skill)<-[:KNOWS]-(p2:Person)-[:KNOWS]-(s2:Skill)\n",
    "    RETURN DISTINCT s2.name as skill;\n",
    "    \"\"\",\n",
    "    database_=DATABASE,\n",
    "    routing_=RoutingControl.READ,\n",
    "    result_transformer_= lambda r: r.to_df(),\n",
    "    person_name_1 = person_name_1\n",
    ")"
   ]
  },
  {
   "cell_type": "code",
   "execution_count": null,
   "metadata": {},
   "outputs": [],
   "source": [
    "skills_two_steps_df"
   ]
  },
  {
   "cell_type": "markdown",
   "metadata": {},
   "source": [
    "## Person Similarity"
   ]
  },
  {
   "cell_type": "markdown",
   "metadata": {},
   "source": [
    "We can define the similarity of persons based on the number of skills that are overlapping. "
   ]
  },
  {
   "cell_type": "code",
   "execution_count": null,
   "metadata": {},
   "outputs": [],
   "source": [
    "person_name_1 = \"Thomas Brown\"\n",
    "\n",
    "similar_skills_df = driver.execute_query(\n",
    "    \"\"\"\n",
    "    MATCH path_1=(p1:Person{name: $person_name_1})-[:KNOWS]->(s1:Skill)\n",
    "    MATCH path_2=(s1)<-[:KNOWS]-(p2:Person)\n",
    "    WITH p1.name as person_1, p2.name as person_2, COLLECT(DISTINCT s1.name) as skill_list, COUNT(DISTINCT(s1)) as skill_count\n",
    "    WHERE skill_count > 1 AND person_1 <> person_2\n",
    "    RETURN * ORDER BY skill_count DESC\n",
    "    \"\"\",\n",
    "    database_=DATABASE,\n",
    "    routing_=RoutingControl.READ,\n",
    "    result_transformer_= lambda r: r.to_df(),\n",
    "    person_name_1 = person_name_1\n",
    ")"
   ]
  },
  {
   "cell_type": "code",
   "execution_count": null,
   "metadata": {},
   "outputs": [],
   "source": [
    "similar_skills_df"
   ]
  },
  {
   "cell_type": "code",
   "execution_count": null,
   "metadata": {},
   "outputs": [],
   "source": [
    "similar_skills_all_df = driver.execute_query(\n",
    "    \"\"\"\n",
    "    MATCH path_1=(p1:Person)-[:KNOWS]->(s1:Skill)<-[:KNOWS]-(p2:Person)\n",
    "    WHERE p1.name < p2.name\n",
    "    WITH p1.name as person_1, p2.name as person_2, COLLECT(DISTINCT s1.name) as skill_list, COUNT(DISTINCT(s1)) as skill_count\n",
    "    WHERE skill_count >= 1\n",
    "    RETURN * ORDER BY skill_count DESC\n",
    "    \"\"\",\n",
    "    database_=DATABASE,\n",
    "    routing_=RoutingControl.READ,\n",
    "    result_transformer_= lambda r: r.to_df()\n",
    ")"
   ]
  },
  {
   "cell_type": "code",
   "execution_count": null,
   "metadata": {},
   "outputs": [],
   "source": [
    "similar_skills_all_df"
   ]
  },
  {
   "cell_type": "markdown",
   "metadata": {},
   "source": [
    "Load the skill count to the database in a new relationship"
   ]
  },
  {
   "cell_type": "code",
   "execution_count": null,
   "metadata": {},
   "outputs": [],
   "source": [
    "for chunk in split_dataframe(similar_skills_all_df):\n",
    "    records, summary, keys = driver.execute_query(\n",
    "        \"\"\"\n",
    "        UNWIND $rows AS row\n",
    "        MERGE (p1:Person{name:row.person_1})\n",
    "        MERGE (p2:Person{name:row.person_2})\n",
    "        MERGE (p1)-[s:SIMILAR_SKILLSET]->(p2)\n",
    "        SET s.overlap = row.skill_count\n",
    "        RETURN COUNT(*) AS rows_processed\n",
    "        \"\"\",\n",
    "        database_=DATABASE,\n",
    "        routing_=RoutingControl.WRITE,\n",
    "        rows = chunk.to_dict('records')\n",
    "    )"
   ]
  },
  {
   "cell_type": "markdown",
   "metadata": {},
   "source": [
    "Take a minute to explore the SIMILAR_SKILLSET network in the database. \n",
    "\n",
    "- ```MATCH p=()-[:SIMILAR_SKILLSET]->() RETURN p LIMIT 50```\n",
    "- ```MATCH p=()-[s:SIMILAR_SKILLSET]->() WHERE s.overlap >= 2 RETURN p LIMIT 50```\n",
    "- ```MATCH p=()-[s:SIMILAR_SKILLSET]->() WHERE s.overlap >= 3 RETURN p LIMIT 50```"
   ]
  },
  {
   "cell_type": "markdown",
   "metadata": {},
   "source": [
    "## Communities"
   ]
  },
  {
   "cell_type": "markdown",
   "metadata": {},
   "source": [
    "Let's run some Graph Data Science based on Persons and Skills. Let's first setup the [Graph Data Science Client](https://neo4j.com/docs/graph-data-science-client/current/). "
   ]
  },
  {
   "cell_type": "code",
   "execution_count": null,
   "metadata": {},
   "outputs": [],
   "source": [
    "gds = GraphDataScience.from_neo4j_driver(driver=driver)\n",
    "gds.set_database(DATABASE)\n",
    "gds.version()"
   ]
  },
  {
   "cell_type": "markdown",
   "metadata": {},
   "source": [
    "Let's investigate Persons that are similar in the graph (based on skills they share). For that we first need to create a [Graph object](https://neo4j.com/docs/graph-data-science-client/current/graph-object/). "
   ]
  },
  {
   "cell_type": "code",
   "execution_count": null,
   "metadata": {},
   "outputs": [],
   "source": [
    "graph_name = \"person_similarity_projection\"\n",
    "node_projection = [\"Person\"]\n",
    "rel_projection = {\"SIMILAR_SKILLSET\": {\"orientation\": 'UNDIRECTED', \"properties\": \"overlap\"}, }"
   ]
  },
  {
   "cell_type": "code",
   "execution_count": null,
   "metadata": {},
   "outputs": [],
   "source": [
    "G, res = gds.graph.project(graph_name, node_projection, rel_projection)"
   ]
  },
  {
   "cell_type": "markdown",
   "metadata": {},
   "source": [
    "Run the [Leiden Algorithm](https://neo4j.com/docs/graph-data-science/current/algorithms/leiden/) for Community Detection"
   ]
  },
  {
   "cell_type": "code",
   "execution_count": null,
   "metadata": {},
   "outputs": [],
   "source": [
    "gds.leiden.write(\n",
    "    G,\n",
    "    writeProperty='leiden_community',\n",
    "    relationshipWeightProperty='overlap',\n",
    "    maxLevels=100,\n",
    "    gamma=1.5,\n",
    "    theta=0.001,\n",
    "    concurrency = 1,\n",
    "    randomSeed = 42\n",
    ")"
   ]
  },
  {
   "cell_type": "code",
   "execution_count": null,
   "metadata": {},
   "outputs": [],
   "source": [
    "communities_df = driver.execute_query(\n",
    "    \"\"\"\n",
    "    MATCH (p:Person)\n",
    "    RETURN p.leiden_community AS Community, COUNT(*) as MemberCount\n",
    "    \"\"\",\n",
    "    database_=DATABASE,\n",
    "    routing_=RoutingControl.READ,\n",
    "    result_transformer_= lambda r: r.to_df()\n",
    ")"
   ]
  },
  {
   "cell_type": "code",
   "execution_count": null,
   "metadata": {},
   "outputs": [],
   "source": [
    "communities_df"
   ]
  },
  {
   "cell_type": "markdown",
   "metadata": {},
   "source": [
    "Check communities based on people with high overlap"
   ]
  },
  {
   "cell_type": "code",
   "execution_count": null,
   "metadata": {},
   "outputs": [],
   "source": [
    "community_check_df = driver.execute_query(\n",
    "    \"\"\"\n",
    "    MATCH (p1:Person)-[s:SIMILAR_SKILLSET]->(p2:Person)\n",
    "    WHERE s.overlap > 2\n",
    "    RETURN s.overlap AS Overlap, p1.name AS Person1, p1.leiden_community AS Community1, p2.name AS Person2, p2.leiden_community AS Community2\n",
    "    \"\"\",\n",
    "    database_=DATABASE,\n",
    "    routing_=RoutingControl.READ,\n",
    "    result_transformer_= lambda r: r.to_df()\n",
    ")"
   ]
  },
  {
   "cell_type": "code",
   "execution_count": null,
   "metadata": {},
   "outputs": [],
   "source": [
    "community_check_df"
   ]
  },
  {
   "cell_type": "markdown",
   "metadata": {},
   "source": [
    "Check some high skill occurences in the communities"
   ]
  },
  {
   "cell_type": "code",
   "execution_count": null,
   "metadata": {},
   "outputs": [],
   "source": [
    "communities_skills_df = gds.run_cypher('''\n",
    "    MATCH (p:Person)-[:KNOWS]->(s) WHERE (p.leiden_community) IS NOT NULL\n",
    "    WITH p.leiden_community AS leiden_community, s.name as skill, count(*) as cnt\n",
    "    WHERE cnt > 5\n",
    "    RETURN *\n",
    "    ORDER BY leiden_community, cnt DESC\n",
    "''')"
   ]
  },
  {
   "cell_type": "code",
   "execution_count": null,
   "metadata": {},
   "outputs": [],
   "source": [
    "communities_skills_df"
   ]
  },
  {
   "cell_type": "markdown",
   "metadata": {},
   "source": [
    "### Plot the Communities with their Skill Count"
   ]
  },
  {
   "cell_type": "code",
   "execution_count": null,
   "metadata": {},
   "outputs": [],
   "source": [
    "df = gds.run_cypher(\"\"\"\n",
    "MATCH (p:Person)-[:KNOWS]->(s) WHERE (p.leiden_community) IS NOT NULL\n",
    "RETURN p.leiden_community AS leiden_community, s.name as skill, count(*) as cnt\n",
    "\"\"\")"
   ]
  },
  {
   "cell_type": "code",
   "execution_count": null,
   "metadata": {},
   "outputs": [],
   "source": [
    "pivot_table = df.pivot(index=\"skill\", columns=\"leiden_community\", values=\"cnt\").fillna(0)\n",
    "sns.set_theme(style=\"whitegrid\")\n",
    "plt.figure(figsize=(12, 6))\n",
    "sns.heatmap(pivot_table, cmap=\"Blues\", linewidths=0.5)\n",
    "plt.xlabel(\"Community\")\n",
    "plt.ylabel(\"Skill\")\n",
    "plt.title(\"Skill Distribution Heatmap per Community\")\n",
    "plt.show()"
   ]
  },
  {
   "cell_type": "markdown",
   "metadata": {},
   "source": [
    "Drop the projection from the graph catalogue to free up resources"
   ]
  },
  {
   "cell_type": "code",
   "execution_count": null,
   "metadata": {},
   "outputs": [],
   "source": [
    "G.drop()"
   ]
  },
  {
   "cell_type": "markdown",
   "metadata": {
    "id": "jU696MRBKlne"
   },
   "source": [
    "## Semantic Similar skill"
   ]
  },
  {
   "cell_type": "markdown",
   "metadata": {},
   "source": [
    "Since the communities don't really make sense (due to the randomness of the skills for persons) we can try the similarity based on the semantic meaning. "
   ]
  },
  {
   "cell_type": "code",
   "execution_count": null,
   "metadata": {
    "id": "mZC3AKS9ZZ-W"
   },
   "outputs": [],
   "source": [
    "skills_df = gds.run_cypher(\n",
    "    \"\"\"\n",
    "    MATCH (s:Skill)\n",
    "    RETURN s.name AS skill\n",
    "    \"\"\"\n",
    ")"
   ]
  },
  {
   "cell_type": "code",
   "execution_count": null,
   "metadata": {
    "id": "mZC3AKS9ZZ-W"
   },
   "outputs": [],
   "source": [
    "skills_df.head(5)"
   ]
  },
  {
   "cell_type": "markdown",
   "metadata": {
    "id": "IKWEZ7oy051q"
   },
   "source": [
    "### STOP STOP STOP - DO NOT PROCEED (YET)"
   ]
  },
  {
   "cell_type": "markdown",
   "metadata": {},
   "source": [
    "-- Only to be run by instructor (or if you have your own api key). Skip the following two cells -- "
   ]
  },
  {
   "cell_type": "code",
   "execution_count": null,
   "metadata": {},
   "outputs": [],
   "source": [
    "# skills_df['embedding'] = skills_df['description'].apply( lambda skill: embeddings.embed_documents([skill])[0])\n",
    "# skills_df.head()"
   ]
  },
  {
   "cell_type": "code",
   "execution_count": null,
   "metadata": {},
   "outputs": [],
   "source": [
    "# gds.run_cypher('''\n",
    "#     unwind $data as row\n",
    "#     match (s:Skill{name: row.skill})\n",
    "#     set s.embedding = row.embedding\n",
    "#     ''',\n",
    "#     params = { 'data': skills_df.to_dict(orient='records') }\n",
    "# )"
   ]
  },
  {
   "cell_type": "code",
   "execution_count": null,
   "metadata": {},
   "outputs": [],
   "source": [
    "url = 'https://github.com/erikbijl/genai-workshop-amsterdam/raw/refs/heads/main/talent/data/skills_embeddings.csv'"
   ]
  },
  {
   "cell_type": "code",
   "execution_count": null,
   "metadata": {},
   "outputs": [],
   "source": [
    "skills_embeddings_df = pd.read_csv(url)"
   ]
  },
  {
   "cell_type": "code",
   "execution_count": null,
   "metadata": {},
   "outputs": [],
   "source": [
    "skills_embeddings_df.head()"
   ]
  },
  {
   "cell_type": "code",
   "execution_count": null,
   "metadata": {},
   "outputs": [],
   "source": [
    "type(skills_embeddings_df['Embedding'].iloc[0][0])"
   ]
  },
  {
   "cell_type": "code",
   "execution_count": null,
   "metadata": {},
   "outputs": [],
   "source": [
    "skills_embeddings_df['Embedding'] = skills_embeddings_df['Embedding'].apply( lambda x: [ float(i) for i in x.strip(\"[]\").split(\", \")] )"
   ]
  },
  {
   "cell_type": "code",
   "execution_count": null,
   "metadata": {},
   "outputs": [],
   "source": [
    "type(skills_embeddings_df['Embedding'].iloc[0][0])"
   ]
  },
  {
   "cell_type": "code",
   "execution_count": null,
   "metadata": {},
   "outputs": [],
   "source": [
    "skills_embeddings_df.head()"
   ]
  },
  {
   "cell_type": "markdown",
   "metadata": {},
   "source": [
    "Length of an embedding"
   ]
  },
  {
   "cell_type": "code",
   "execution_count": null,
   "metadata": {},
   "outputs": [],
   "source": [
    "len(skills_embeddings_df['Embedding'].iloc[0])"
   ]
  },
  {
   "cell_type": "markdown",
   "metadata": {},
   "source": [
    "### Add Embeddings to the database"
   ]
  },
  {
   "cell_type": "markdown",
   "metadata": {
    "id": "-K7yLpGtZZ-W"
   },
   "source": [
    "Add embeddings with the description to Skill nodes in database"
   ]
  },
  {
   "cell_type": "code",
   "execution_count": null,
   "metadata": {},
   "outputs": [],
   "source": [
    "for chunk in split_dataframe(skills_embeddings_df):\n",
    "    records, summary, keys = driver.execute_query(\n",
    "        \"\"\"\n",
    "        UNWIND $rows AS row\n",
    "        MATCH (s:Skill{name: row.Skill})\n",
    "        SET s.embedding = row.Embedding\n",
    "        SET s.description = row.Description\n",
    "        WITH s\n",
    "        CALL db.create.setNodeVectorProperty(s, \"embedding\", s.embedding)\n",
    "        RETURN COUNT(*) AS rows_processed\n",
    "        \"\"\",\n",
    "        database_=DATABASE,\n",
    "        routing_=RoutingControl.WRITE,\n",
    "        rows = chunk.to_dict('records')\n",
    "    )"
   ]
  },
  {
   "cell_type": "markdown",
   "metadata": {},
   "source": [
    "Let's have a look in the browser! "
   ]
  },
  {
   "cell_type": "markdown",
   "metadata": {},
   "source": [
    "### Vectors for Semantic Meaning"
   ]
  },
  {
   "cell_type": "code",
   "execution_count": null,
   "metadata": {},
   "outputs": [],
   "source": [
    "driver.execute_query(\n",
    "    \"\"\"\n",
    "    CREATE VECTOR INDEX `skill-embeddings` IF NOT EXISTS\n",
    "    FOR (s:Skill) ON (s.embedding)\n",
    "    OPTIONS {\n",
    "        indexConfig: {\n",
    "            `vector.dimensions`: 1536,\n",
    "            `vector.similarity_function`: 'cosine'\n",
    "        } \n",
    "    }\n",
    "    \"\"\",\n",
    "    database_=DATABASE,\n",
    "    routing_=RoutingControl.WRITE\n",
    ")      "
   ]
  },
  {
   "cell_type": "code",
   "execution_count": null,
   "metadata": {},
   "outputs": [],
   "source": [
    "indexes_result_df  = driver.execute_query(\n",
    "    'SHOW INDEXES',\n",
    "    database_=DATABASE,\n",
    "    routing_=RoutingControl.READ,\n",
    "    result_transformer_= lambda r: r.to_df()\n",
    ")\n",
    "indexes_result_df"
   ]
  },
  {
   "cell_type": "markdown",
   "metadata": {},
   "source": [
    "### Semantic Search"
   ]
  },
  {
   "cell_type": "markdown",
   "metadata": {},
   "source": [
    "Take some Skill and find relevant other Skills: \"Python\", \"Java\", \"Git\", \"CI/CD\", \"AWS\", \"Data Visualization\", \"Power BI\", \"R\"\". "
   ]
  },
  {
   "cell_type": "code",
   "execution_count": null,
   "metadata": {},
   "outputs": [],
   "source": [
    "skill_search = \"Python\""
   ]
  },
  {
   "cell_type": "code",
   "execution_count": null,
   "metadata": {},
   "outputs": [],
   "source": [
    "similar_skills_df  = driver.execute_query(\n",
    "    \"\"\"\n",
    "    MATCH (s:Skill{name: $skill_search})\n",
    "    CALL db.index.vector.queryNodes(\"skill-embeddings\", 10, s.embedding) YIELD node, score\n",
    "    WITH node as skill, score ORDER BY score DESC\n",
    "    WHERE node.name <> s.name AND score > 0.9\n",
    "    RETURN skill.name, score\n",
    "    \"\"\",\n",
    "    database_=DATABASE,\n",
    "    routing_=RoutingControl.READ,\n",
    "    result_transformer_= lambda r: r.to_df(),\n",
    "    skill_search = skill_search\n",
    "\n",
    ")\n",
    "similar_skills_df"
   ]
  },
  {
   "cell_type": "markdown",
   "metadata": {},
   "source": [
    "We can also find similarity from other terms than the skills in the database now. "
   ]
  },
  {
   "cell_type": "code",
   "execution_count": null,
   "metadata": {},
   "outputs": [],
   "source": [
    "embeddings = OpenAIEmbeddings(model=EMBEDDINGS_MODEL)"
   ]
  },
  {
   "cell_type": "markdown",
   "metadata": {},
   "source": [
    "Some suggestions to search for: \n",
    "- data visualizations and dashboards\n",
    "- deployments\n",
    "- API coding\n",
    "- Machine Learning frameworks\n",
    "- Cloud expertise"
   ]
  },
  {
   "cell_type": "code",
   "execution_count": null,
   "metadata": {},
   "outputs": [],
   "source": [
    "skill_search = \"API coding\""
   ]
  },
  {
   "cell_type": "code",
   "execution_count": null,
   "metadata": {},
   "outputs": [],
   "source": [
    "driver.execute_query(\n",
    "    '''\n",
    "    CALL db.index.vector.queryNodes(\"skill-embeddings\", 10, $query_vector) YIELD node, score\n",
    "    WHERE score > 0.89\n",
    "    RETURN node.name AS skill, score\n",
    "    ''',\n",
    "    database_ = DATABASE,\n",
    "    routing_ = RoutingControl.READ,\n",
    "    result_transformer_ = lambda r: r.to_df(),\n",
    "    query_vector = embeddings.embed_query(skill_search)\n",
    ")"
   ]
  },
  {
   "cell_type": "markdown",
   "metadata": {},
   "source": [
    "Create relationship for similar sematic skills"
   ]
  },
  {
   "cell_type": "code",
   "execution_count": null,
   "metadata": {},
   "outputs": [],
   "source": [
    "driver.execute_query(\n",
    "    \"\"\"\n",
    "    CALL apoc.periodic.iterate(\n",
    "        \"MATCH (skill1:Skill) RETURN skill1\",\n",
    "        \"WITH skill1 \n",
    "        CALL db.index.vector.queryNodes('skill-embeddings', 10, skill1.embedding) YIELD node, score\n",
    "        WITH skill1, node as skill2, score ORDER BY score DESC\n",
    "        WHERE skill1.name < skill2.name AND score > 0.92\n",
    "        MERGE (skill1)-[s:SIMILAR_SEMANTIC]->(skill2)\n",
    "        SET s.score = score   \n",
    "        \",\n",
    "        {batchSize: 1000}\n",
    "    )\n",
    "    \"\"\",\n",
    "    database_=DATABASE,\n",
    "    routing_=RoutingControl.WRITE,\n",
    "    result_transformer_= lambda r: r.to_df()\n",
    ")"
   ]
  },
  {
   "cell_type": "markdown",
   "metadata": {},
   "source": [
    "Let's look in the browser how these relationships look like. "
   ]
  },
  {
   "cell_type": "markdown",
   "metadata": {},
   "source": [
    "```MATCH p=()-[:SIMILAR_SEMANTIC]->() RETURN p```"
   ]
  },
  {
   "cell_type": "markdown",
   "metadata": {},
   "source": [
    "What are similar skills in the database now? "
   ]
  },
  {
   "cell_type": "code",
   "execution_count": null,
   "metadata": {},
   "outputs": [],
   "source": [
    "similar_skills_df  = driver.execute_query(\n",
    "    \"\"\"\n",
    "    MATCH (s1:Skill)-[r:SIMILAR_SEMANTIC]-(s2:Skill)\n",
    "    WHERE s1.name < s2.name\n",
    "    RETURN s1.name AS skill1, r.score AS score, s2.name AS skill2\n",
    "    ORDER BY score DESC\n",
    "    \"\"\",\n",
    "    database_=DATABASE,\n",
    "    routing_=RoutingControl.READ,\n",
    "    result_transformer_= lambda r: r.to_df()\n",
    ")"
   ]
  },
  {
   "cell_type": "code",
   "execution_count": null,
   "metadata": {},
   "outputs": [],
   "source": [
    "similar_skills_df"
   ]
  },
  {
   "cell_type": "markdown",
   "metadata": {},
   "source": [
    "## Now we can find more people with based on Semantic Similarity"
   ]
  },
  {
   "cell_type": "markdown",
   "metadata": {},
   "source": [
    "Check the following in the browser:\n",
    "```\n",
    "MATCH (p1:Person {name: \"John Garcia\"})-[:KNOWS]->(s:Skill)\n",
    "WITH p1, COLLECT(s.name) as skills_1\n",
    "CALL (p1, p1){\n",
    "  MATCH p=(p1)-[:KNOWS]->(s1:Skill)-[r:SIMILAR_SEMANTIC]-(s2:Skill)<-[:KNOWS]-(p2:Person)\n",
    "  RETURN p\n",
    "  UNION \n",
    "  MATCH (p1)-[r:SIMILAR_SKILLSET]->(p2:Person), p=(p2)-[:KNOWS]->(:Skill)\n",
    "  RETURN p\n",
    "}\n",
    "RETURN p\n",
    "```"
   ]
  },
  {
   "cell_type": "markdown",
   "metadata": {},
   "source": [
    "The following persons give some interesting results: \"Amelia Davis\", \"Victoria Thomas\", \"John Walker\""
   ]
  },
  {
   "cell_type": "code",
   "execution_count": null,
   "metadata": {},
   "outputs": [],
   "source": [
    "person_name_1 = \"John Garcia\""
   ]
  },
  {
   "cell_type": "code",
   "execution_count": null,
   "metadata": {},
   "outputs": [],
   "source": [
    "similar_persons_df  = driver.execute_query(\n",
    "    \"\"\"\n",
    "    MATCH (p1:Person {name: $person_name_1})-[:KNOWS]->(s:Skill)\n",
    "    WITH p1, COLLECT(s.name) as skills_1\n",
    "    CALL (p1){\n",
    "      MATCH (p1)-[:KNOWS]->(s1:Skill)-[r:SIMILAR_SEMANTIC]-(s2:Skill)<-[:KNOWS]-(p2:Person)\n",
    "      RETURN p1 as person_1, p2 as person_2, SUM(r.score) AS score\n",
    "      UNION \n",
    "      MATCH (p1)-[r:SIMILAR_SKILLSET]->(p2:Person)\n",
    "      RETURN p1 as person_1, p2 AS person_2, SUM(r.overlap) AS score\n",
    "    }\n",
    "    WITH person_1.name as person_1, skills_1, person_2, SUM(score) as score\n",
    "    WHERE score >= 1\n",
    "    MATCH (person_2)-[:KNOWS]->(s:Skill)\n",
    "    RETURN person_1, skills_1,  person_2.name as person_2, COLLECT(s.name) as skills_2, score\n",
    "    ORDER BY score DESC\n",
    "    \"\"\",\n",
    "    database_=DATABASE,\n",
    "    routing_=RoutingControl.READ,\n",
    "    result_transformer_= lambda r: r.to_df(),\n",
    "    person_name_1 = person_name_1\n",
    ")"
   ]
  },
  {
   "cell_type": "code",
   "execution_count": null,
   "metadata": {},
   "outputs": [],
   "source": [
    "similar_persons_df"
   ]
  },
  {
   "cell_type": "markdown",
   "metadata": {},
   "source": [
    "Check in the browser the following: \n",
    "\n",
    "```\n",
    "MATCH p=(p1:Person {name: \"John Garcia\"})-[:KNOWS]->(s:Skill)-[:SIMILAR_SEMANTIC]->(:Skill)<-[:KNOWS]-(p2:Person{name:\"Matthew Miller\"})\n",
    "RETURN p \n",
    "UNION \n",
    "MATCH p=(p1:Person {name: \"John Garcia\"})-[:KNOWS]->(s:Skill)<-[:KNOWS]-(p2:Person{name:\"Matthew Miller\"})\n",
    "RETURN p\n",
    "```\n",
    "\n",
    "```\n",
    "MATCH p=(p1:Person {name: \"John Garcia\"})-[:KNOWS]->(s:Skill)-[:SIMILAR_SEMANTIC*0..2]->(:Skill)<-[:KNOWS]-(p2:Person{name:\"Matthew Miller\"})\n",
    "RETURN p \n",
    "UNION \n",
    "MATCH p=(p1:Person {name: \"John Garcia\"})-[:KNOWS]->(s:Skill)<-[:KNOWS]-(p2:Person{name:\"Matthew Miller\"})\n",
    "RETURN p\n",
    "```"
   ]
  },
  {
   "cell_type": "markdown",
   "metadata": {},
   "source": [
    "Calculate for all of them with score > 3"
   ]
  },
  {
   "cell_type": "code",
   "execution_count": null,
   "metadata": {},
   "outputs": [],
   "source": [
    "similar_persons_df  = driver.execute_query(\n",
    "    \"\"\"\n",
    "    MATCH (p1:Person)-[:KNOWS]->(s:Skill)\n",
    "    WITH p1, COLLECT(s.name) as skills_1\n",
    "    CALL (p1, p1){\n",
    "      MATCH (p1)-[:KNOWS]->(s1:Skill)-[r:SIMILAR_SEMANTIC]-(s2:Skill)<-[:KNOWS]-(p2:Person)\n",
    "      RETURN p1 as person_1, p2 as person_2, SUM(r.score) AS score\n",
    "      UNION \n",
    "      MATCH (p1)-[r:SIMILAR_SKILLSET]-(p2:Person)\n",
    "      RETURN p1 as person_1, p2 AS person_2, SUM(r.overlap) AS score\n",
    "    }\n",
    "    WITH person_1.name as person_1, skills_1, person_2, SUM(score) as score\n",
    "    WHERE score > 3\n",
    "    MATCH (person_2)-[:KNOWS]->(s:Skill)\n",
    "    RETURN person_1, skills_1,  person_2.name as person_2, COLLECT(s.name) as skills_2, score\n",
    "    ORDER BY score DESC\n",
    "    \"\"\",\n",
    "    database_=DATABASE,\n",
    "    routing_=RoutingControl.READ,\n",
    "    result_transformer_= lambda r: r.to_df()\n",
    ")"
   ]
  },
  {
   "cell_type": "code",
   "execution_count": null,
   "metadata": {},
   "outputs": [],
   "source": [
    "similar_persons_df"
   ]
  }
 ],
 "metadata": {
  "colab": {
   "provenance": []
  },
  "kernelspec": {
   "display_name": "Python 3 (ipykernel)",
   "language": "python",
   "name": "python3"
  },
  "language_info": {
   "codemirror_mode": {
    "name": "ipython",
    "version": 3
   },
   "file_extension": ".py",
   "mimetype": "text/x-python",
   "name": "python",
   "nbconvert_exporter": "python",
   "pygments_lexer": "ipython3",
   "version": "3.11.5"
  }
 },
 "nbformat": 4,
 "nbformat_minor": 4
}
