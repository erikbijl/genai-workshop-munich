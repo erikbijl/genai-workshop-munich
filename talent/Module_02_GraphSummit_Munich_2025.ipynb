{
 "cells": [
  {
   "cell_type": "markdown",
   "metadata": {},
   "source": [
    "# Module 2 - Taming Unstructured Data\n",
    "\n",
    "This module has the following objectives:\n",
    "- Creating a graph from Unstructured Data"
   ]
  },
  {
   "cell_type": "code",
   "execution_count": null,
   "metadata": {
    "id": "FHKg4DVZiQ98"
   },
   "outputs": [],
   "source": [
    "# !pip install graphdatascience neo4j dotenv pydantic openai"
   ]
  },
  {
   "cell_type": "markdown",
   "metadata": {},
   "source": [
    "Import our usual suspects (and some more...)"
   ]
  },
  {
   "cell_type": "code",
   "execution_count": null,
   "metadata": {},
   "outputs": [],
   "source": [
    "import os\n",
    "import pandas as pd\n",
    "from dotenv import load_dotenv\n",
    "from graphdatascience import GraphDataScience\n",
    "from neo4j import Query, GraphDatabase, RoutingControl, Result\n",
    "from typing import List, Optional\n",
    "from pydantic import BaseModel, Field, validator\n",
    "from openai import OpenAI\n",
    "import json"
   ]
  },
  {
   "cell_type": "markdown",
   "metadata": {
    "id": "ynPe6RLRWSKd"
   },
   "source": [
    "# Setup"
   ]
  },
  {
   "cell_type": "markdown",
   "metadata": {
    "id": "pa61u1jfyk3t"
   },
   "source": [
    "Load env variables"
   ]
  },
  {
   "cell_type": "code",
   "execution_count": null,
   "metadata": {},
   "outputs": [],
   "source": [
    "env_file = 'ws.env'"
   ]
  },
  {
   "cell_type": "code",
   "execution_count": null,
   "metadata": {
    "id": "CHR_0lmElZ-R"
   },
   "outputs": [],
   "source": [
    "if os.path.exists(env_file):\n",
    "    load_dotenv(env_file, override=True)\n",
    "\n",
    "    # Neo4j\n",
    "    HOST = os.getenv('NEO4J_URI')\n",
    "    USERNAME = os.getenv('NEO4J_USERNAME')\n",
    "    PASSWORD = os.getenv('NEO4J_PASSWORD')\n",
    "    DATABASE = os.getenv('NEO4J_DATABASE')\n",
    "\n",
    "    # AI\n",
    "    OPENAI_API_KEY = os.getenv('OPENAI_API_KEY')\n",
    "    os.environ['OPENAI_API_KEY']=OPENAI_API_KEY\n",
    "    LLM = os.getenv('LLM')\n",
    "    EMBEDDINGS_MODEL = os.getenv('EMBEDDINGS_MODEL')\n",
    "else:\n",
    "    print(f\"File {env_file} not found.\")"
   ]
  },
  {
   "cell_type": "markdown",
   "metadata": {},
   "source": [
    "Connect to neo4j db"
   ]
  },
  {
   "cell_type": "code",
   "execution_count": null,
   "metadata": {},
   "outputs": [],
   "source": [
    "driver = GraphDatabase.driver(\n",
    "    HOST,\n",
    "    auth=(USERNAME, PASSWORD)\n",
    ")"
   ]
  },
  {
   "cell_type": "markdown",
   "metadata": {},
   "source": [
    "Test the connection"
   ]
  },
  {
   "cell_type": "code",
   "execution_count": null,
   "metadata": {
    "id": "5w4eCb7xZZ-S"
   },
   "outputs": [],
   "source": [
    "driver.execute_query(\n",
    "    \"\"\"\n",
    "    MATCH (n) RETURN COUNT(n) as Count\n",
    "    \"\"\",\n",
    "    database_=DATABASE,\n",
    "    routing_=RoutingControl.READ,\n",
    "    result_transformer_= lambda r: r.to_df()\n",
    ")"
   ]
  },
  {
   "cell_type": "markdown",
   "metadata": {},
   "source": [
    "## Unstructured data"
   ]
  },
  {
   "cell_type": "markdown",
   "metadata": {},
   "source": [
    "Let's define some unstrucutured data from some of our Neo4j colleagues"
   ]
  },
  {
   "cell_type": "code",
   "execution_count": null,
   "metadata": {},
   "outputs": [],
   "source": [
    "list_of_bio = [\n",
    "    \"\"\" \n",
    "    Kristof \"speedy gonzales\" Neys, Graph Data Science Director at Neo4j. Kristof excel at Machine \n",
    "    Learning and has written more Quantified Path Patterns in Cypher than anyone else. Want to know more,\n",
    "    drop him an email at kristof.neys@neo4j.com\n",
    "    \"\"\",\n",
    "    \"\"\" \n",
    "    Håkan Löfqvist, Solutions Engineer at Neo4j. Håkan prefer using java \n",
    "    over python, but nothing beats hacking cypher queries and using Graph Technology \n",
    "    to deliver insane success :) Email: hakan.lofqvist@neo4j.com\n",
    "    \"\"\",\n",
    "]"
   ]
  },
  {
   "cell_type": "code",
   "execution_count": null,
   "metadata": {},
   "outputs": [],
   "source": [
    "for bio in list_of_bio:\n",
    "    print(bio)"
   ]
  },
  {
   "cell_type": "markdown",
   "metadata": {},
   "source": [
    "## Define the Domain Model"
   ]
  },
  {
   "cell_type": "markdown",
   "metadata": {},
   "source": [
    "[Pydantic Models](https://docs.pydantic.dev/latest/api/base_model/) are simply classes which inherit from BaseModel and define fields as annotated attributes."
   ]
  },
  {
   "cell_type": "code",
   "execution_count": null,
   "metadata": {},
   "outputs": [],
   "source": [
    "class Skill(BaseModel):\n",
    "    \"\"\"\n",
    "    Represents a professional skill or knowledge of a person.\n",
    "    \"\"\"\n",
    "    name: str = Field(..., description=\"Sortened name of the skill\")\n",
    "    \n",
    "class Person(BaseModel):\n",
    "    \"\"\"\n",
    "    Represents a person with a name.\n",
    "    \"\"\"\n",
    "    name: str = Field(..., description=\"Full name of person\")\n",
    "    email: str = Field(..., description=\"A persons email address\")\n",
    "    skills: List[Skill] = Field(..., description=\"List of skills known by the person\"\n",
    "    )\n",
    "    \n",
    "class PersonList(BaseModel):\n",
    "    persons:List[Person]"
   ]
  },
  {
   "cell_type": "code",
   "execution_count": null,
   "metadata": {},
   "outputs": [],
   "source": [
    "system_message = \"\"\"\n",
    "    You are an expert in extracting structured information from person resumes.\n",
    "    Identify key details such as:\n",
    "    - Name of the person\n",
    "    - Email address of the person\n",
    "    - Skills known by the person\n",
    "    \n",
    "    Present the extracted information in a clear, structured format. Be concise, focusing on:\n",
    "    - Key skills\n",
    "    - Full name of person\n",
    "    Ignore nick names, titles or roles and company information be short and consise with skills\n",
    "\"\"\""
   ]
  },
  {
   "cell_type": "code",
   "execution_count": null,
   "metadata": {},
   "outputs": [],
   "source": [
    "client = OpenAI()"
   ]
  },
  {
   "cell_type": "code",
   "execution_count": null,
   "metadata": {},
   "outputs": [],
   "source": [
    "def extract(document, model=LLM, temperature=0):\n",
    "    response = client.beta.chat.completions.parse(\n",
    "        model=model,\n",
    "        temperature=temperature,\n",
    "        messages=[\n",
    "            {\"role\": \"system\", \"content\": system_message},\n",
    "            {\"role\": \"user\", \"content\": document},\n",
    "        ],\n",
    "        response_format=Person,\n",
    "    )\n",
    "    return json.loads(response.choices[0].message.content)"
   ]
  },
  {
   "cell_type": "code",
   "execution_count": null,
   "metadata": {},
   "outputs": [],
   "source": [
    "rows = []\n",
    "for text in list_of_bio:\n",
    "    data = extract(text)\n",
    "    rows.append(data)\n",
    "rows"
   ]
  },
  {
   "cell_type": "code",
   "execution_count": null,
   "metadata": {},
   "outputs": [],
   "source": [
    "structured_data = PersonList.model_validate({'persons':rows})"
   ]
  },
  {
   "cell_type": "code",
   "execution_count": null,
   "metadata": {},
   "outputs": [],
   "source": [
    "for k, details_list in structured_data.model_dump().items():\n",
    "    print(f\"{k}\")\n",
    "    for details in details_list:\n",
    "        for key, value in details.items():\n",
    "            print(f\"  {key}: {value}\")\n",
    "        print()"
   ]
  },
  {
   "cell_type": "markdown",
   "metadata": {
    "id": "0OMlYdxHWZLx"
   },
   "source": [
    "## Graph creation\n",
    "Now that data is structured and validated, we can save it to the database"
   ]
  },
  {
   "cell_type": "code",
   "execution_count": null,
   "metadata": {},
   "outputs": [],
   "source": [
    "records, summary, keys = driver.execute_query(\n",
    "    \"\"\"\n",
    "        UNWIND $rows AS row\n",
    "        MERGE (p:Person{email:row.email})\n",
    "        SET p.name = row.name\n",
    "        WITH p, row\n",
    "        FOREACH (skill IN row.skills | MERGE (s:Skill{name:skill.name}) MERGE (p)-[:KNOWS]->(s) )\n",
    "        RETURN COUNT (*) AS rows_processed\n",
    "    \"\"\",\n",
    "    database_=DATABASE,\n",
    "    routing_=RoutingControl.WRITE,\n",
    "    rows = rows\n",
    ")"
   ]
  },
  {
   "cell_type": "markdown",
   "metadata": {},
   "source": [
    "We could also have used [neomodel (OGM)](https://neo4j.com/labs/neomodel/?utm_source=GSearch&utm_medium=PaidSearch&utm_campaign=Evergreen&utm_content=EMEA-Search-SEMCE-DSA-None-SEM-SEM-NonABM&utm_term=&utm_adgroup=DSA&gad_source=1&gclid=Cj0KCQjw4cS-BhDGARIsABg4_J3lQsfHEHC6mPeWozzT4IgafxMFSHlZeWAENoPHfKnqTpFtqDG4nIkaAr3XEALw_wcB) to update the graph."
   ]
  },
  {
   "cell_type": "markdown",
   "metadata": {},
   "source": [
    "Check the browser with the following:\n",
    "\n",
    "- ```MATCH p=(n:Person {name: \"Kristof Neys\"})-[:KNOWS]->(:Skill) RETURN p```\n",
    "- ```MATCH p=(n:Person {name: \"Håkan Löfqvist\"})-[:KNOWS]->(:Skill) RETURN p```"
   ]
  }
 ],
 "metadata": {
  "colab": {
   "provenance": []
  },
  "kernelspec": {
   "display_name": "Python 3 (ipykernel)",
   "language": "python",
   "name": "python3"
  },
  "language_info": {
   "codemirror_mode": {
    "name": "ipython",
    "version": 3
   },
   "file_extension": ".py",
   "mimetype": "text/x-python",
   "name": "python",
   "nbconvert_exporter": "python",
   "pygments_lexer": "ipython3",
   "version": "3.11.5"
  }
 },
 "nbformat": 4,
 "nbformat_minor": 4
}
